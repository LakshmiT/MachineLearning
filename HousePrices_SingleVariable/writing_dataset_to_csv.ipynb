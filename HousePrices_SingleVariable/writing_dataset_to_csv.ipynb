{
 "cells": [
  {
   "cell_type": "code",
   "execution_count": null,
   "metadata": {},
   "outputs": [],
   "source": [
    "\n",
    "import pandas as pd \n",
    "from sklearn import linear_model\n",
    "\n",
    "homeprices_df = pd.read_csv(filepath_or_buffer=\"homeprices.csv\")\n",
    "homeprices_df\n",
    "\n",
    "areas_df= pd.read_csv(\"areas.csv\")\n",
    "areas_df.head(5)\n",
    "\n",
    "reg = linear_model.LinearRegression()\n",
    "reg.fit(homeprices_df[['area']],homeprices_df['price'])\n",
    "\n",
    "# predicting the prices using linear regression model\n",
    "predicted_values= reg.predict(areas_df)\n",
    "predicted_values\n",
    "\n",
    "\n",
    "areas_df['prices'] = predicted_values\n",
    "\n",
    "areas_df.to_csv(\"predictions.csv\", index=False)"
   ]
  }
 ],
 "metadata": {
  "kernelspec": {
   "display_name": "Python 3",
   "language": "python",
   "name": "python3"
  },
  "language_info": {
   "name": "python",
   "version": "3.10.10"
  }
 },
 "nbformat": 4,
 "nbformat_minor": 2
}
