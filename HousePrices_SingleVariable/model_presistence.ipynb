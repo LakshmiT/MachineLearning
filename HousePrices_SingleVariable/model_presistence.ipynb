{
 "cells": [
  {
   "cell_type": "markdown",
   "metadata": {},
   "source": [
    "## Create Output file for Model"
   ]
  },
  {
   "cell_type": "markdown",
   "metadata": {},
   "source": [
    "- Import pickle package\n",
    "- create file name with model and write the Model object into created file\n",
    "\n",
    "    below is code snippet :\n",
    "\n",
    "           import pickle\n",
    "\n",
    "           with open('house_prices_model','wb') as f:\n",
    "                pickle.dump(model_object,f)\n",
    "\n",
    "with above lines of code pickel file will create in your local path \n",
    "\n",
    "\n",
    "## Testing the Model file :\n",
    "\n",
    "   for Testing the output of the model use below code snippet.\n",
    "\n",
    "          with open('house_prices_model','rb') as f:\n",
    "          model =   pickle.load(f)\n",
    " \n",
    "   call model prediction\n",
    "\n",
    "      model.predict([[6000]])  \n",
    "\n",
    " here predicting the house price with single variable"
   ]
  }
 ],
 "metadata": {
  "kernelspec": {
   "display_name": "Python 3",
   "language": "python",
   "name": "python3"
  },
  "language_info": {
   "codemirror_mode": {
    "name": "ipython",
    "version": 3
   },
   "file_extension": ".py",
   "mimetype": "text/x-python",
   "name": "python",
   "nbconvert_exporter": "python",
   "pygments_lexer": "ipython3",
   "version": "3.10.10"
  }
 },
 "nbformat": 4,
 "nbformat_minor": 2
}
